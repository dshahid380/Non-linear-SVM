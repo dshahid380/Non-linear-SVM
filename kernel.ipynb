{
 "cells": [
  {
   "cell_type": "markdown",
   "metadata": {
    "_cell_guid": "78dd770a-7b0c-16fa-550e-10439e9026b0",
    "_uuid": "7dcc3a8aeac6aba387e29478a1596b8b7fc123d8"
   },
   "source": [
    "Implementing multi-class classifier with SVM using non linear kernels.\n",
    "Part 1. Uni-class: Setosa or not?\n",
    "Part 2. Multi-class classification "
   ]
  },
  {
   "cell_type": "code",
   "execution_count": 1,
   "metadata": {
    "_cell_guid": "07cc26de-b83f-894f-72b9-97293d9b5d1d",
    "_uuid": "a3181a41067a12e54059b15b011cdfb5717cc964"
   },
   "outputs": [
    {
     "name": "stderr",
     "output_type": "stream",
     "text": [
      "C:\\anaconda\\lib\\site-packages\\h5py\\__init__.py:36: FutureWarning: Conversion of the second argument of issubdtype from `float` to `np.floating` is deprecated. In future, it will be treated as `np.float64 == np.dtype(float).type`.\n",
      "  from ._conv import register_converters as _register_converters\n"
     ]
    }
   ],
   "source": [
    "import matplotlib.pyplot as plt\n",
    "import numpy as np\n",
    "import tensorflow as tf\n",
    "from sklearn import datasets\n",
    "sess = tf.Session()"
   ]
  },
  {
   "cell_type": "code",
   "execution_count": 6,
   "metadata": {
    "_cell_guid": "09b02f46-b77b-2ef8-2073-196bcbc0ed07",
    "_uuid": "02832390d640bc9c9cddee05e281d9d74376dbd7"
   },
   "outputs": [
    {
     "data": {
      "text/html": [
       "<script>requirejs.config({paths: { 'plotly': ['https://cdn.plot.ly/plotly-latest.min']},});if(!window.Plotly) {{require(['plotly'],function(plotly) {window.Plotly=plotly;});}}</script>"
      ],
      "text/vnd.plotly.v1+html": [
       "<script>requirejs.config({paths: { 'plotly': ['https://cdn.plot.ly/plotly-latest.min']},});if(!window.Plotly) {{require(['plotly'],function(plotly) {window.Plotly=plotly;});}}</script>"
      ]
     },
     "metadata": {},
     "output_type": "display_data"
    }
   ],
   "source": [
    "import pandas as pd \n",
    "import os\n",
    "import gc\n",
    "import seaborn as sns\n",
    "\n",
    "from scipy import ndimage\n",
    "from subprocess import check_output\n",
    "\n",
    "import cv2\n",
    "\n",
    "\n",
    "pal = sns.color_palette()\n",
    "\n",
    "import plotly.offline as py\n",
    "py.init_notebook_mode(connected=True)\n",
    "import plotly.graph_objs as go\n",
    "import plotly.tools as tls"
   ]
  },
  {
   "cell_type": "code",
   "execution_count": 7,
   "metadata": {
    "_cell_guid": "ed7d8f49-7f1d-9dfa-0c82-9285bd2cb0a8",
    "_uuid": "c0cdf1ae31e1ba17940aa5ff1658024604517f2b"
   },
   "outputs": [],
   "source": [
    "iris = datasets.load_iris()\n",
    "x_vals = np.array([[x[0], x[3]] for x in iris.data])\n",
    "y_vals = np.array([1 if y==0 else -1 for y in iris.target])\n",
    "class1_x = [x[0] for i,x in enumerate(x_vals) if\n",
    "y_vals[i]==1]\n",
    "class1_y = [x[1] for i,x in enumerate(x_vals) if\n",
    "y_vals[i]==1]\n",
    "class2_x = [x[0] for i,x in enumerate(x_vals) if\n",
    "y_vals[i]==-1]\n",
    "class2_y = [x[1] for i,x in enumerate(x_vals) if\n",
    "y_vals[i]==-1]"
   ]
  },
  {
   "cell_type": "code",
   "execution_count": 8,
   "metadata": {
    "_cell_guid": "790020a6-0ab6-5bbb-11ec-f464b66a7024",
    "_uuid": "0d0e3e30b699c424ccf66fe89c712cd4d628ff1b"
   },
   "outputs": [],
   "source": [
    "batch_size = 100\n",
    "x_data = tf.placeholder(shape=[None, 2], dtype=tf.float32)\n",
    "y_target = tf.placeholder(shape=[None, 1], dtype=tf.float32)\n",
    "prediction_grid = tf.placeholder(shape=[None, 2],\n",
    "dtype=tf.float32)\n",
    "b = tf.Variable(tf.random_normal(shape=[1,batch_size]))"
   ]
  },
  {
   "cell_type": "code",
   "execution_count": 9,
   "metadata": {
    "_cell_guid": "22ea33cf-ea66-afd4-28cc-f1b60dcf4226",
    "_uuid": "7a1bcd989721b1ce2d3f57d8ad2396cee5ce15d1"
   },
   "outputs": [],
   "source": [
    "gamma = tf.constant(-10.0) \n",
    "dist = tf.reduce_sum(tf.square(x_data), 1)\n",
    "dist = tf.reshape(dist, [-1,1])\n",
    "sq_dists = tf.add(tf.subtract(dist, tf.multiply(2., tf.matmul(x_data,\n",
    "tf.transpose(x_data)))), tf.transpose(dist))\n",
    "my_kernel = tf.exp(tf.multiply(gamma, tf.abs(sq_dists)))\n",
    "#We now compute the loss for the dual optimization problem, as follows:\n",
    "model_output = tf.matmul(b, my_kernel)\n",
    "first_term = tf.reduce_sum(b)\n",
    "b_vec_cross = tf.matmul(tf.transpose(b), b)\n",
    "y_target_cross = tf.matmul(y_target, tf.transpose(y_target))\n",
    "second_term = tf.reduce_sum(tf.multiply(my_kernel,\n",
    "tf.multiply(b_vec_cross, y_target_cross)))\n",
    "loss = tf.negative(tf.subtract(first_term, second_term))"
   ]
  },
  {
   "cell_type": "code",
   "execution_count": 10,
   "metadata": {
    "_cell_guid": "e5b52e41-8493-c21a-c5aa-4a14f0ec1b2e",
    "_uuid": "375864065c585363c12de468d614b244ff4e1cdb"
   },
   "outputs": [],
   "source": [
    "rA = tf.reshape(tf.reduce_sum(tf.square(x_data), 1),[-1,1])\n",
    "rB = tf.reshape(tf.reduce_sum(tf.square(prediction_grid), 1),\n",
    "[-1,1])\n",
    "pred_sq_dist = tf.add(tf.subtract(rA, tf.multiply(2., tf.matmul(x_data,\n",
    "tf.transpose(prediction_grid)))), tf.transpose(rB))"
   ]
  },
  {
   "cell_type": "code",
   "execution_count": 11,
   "metadata": {
    "_cell_guid": "ae5e8991-a9cb-7af6-f8a3-dc3371ea0e30",
    "_uuid": "69c01952e46ff4cb4dcae828e077391394847951"
   },
   "outputs": [],
   "source": [
    "pred_kernel = tf.exp(tf.multiply(gamma, tf.abs(pred_sq_dist)))\n",
    "prediction_output =tf.matmul(tf.multiply(tf.transpose(y_target),b), pred_kernel)\n"
   ]
  },
  {
   "cell_type": "code",
   "execution_count": 12,
   "metadata": {
    "_cell_guid": "2b260863-c30e-ee6f-4a90-26e3a7dc1b23",
    "_uuid": "8162f13879eb2cffb73bfe35e043ca560b855f79"
   },
   "outputs": [],
   "source": [
    "prediction = tf.sign(prediction_output-tf.reduce_mean(prediction_output))"
   ]
  },
  {
   "cell_type": "code",
   "execution_count": 13,
   "metadata": {
    "_cell_guid": "3243d582-febe-7ecf-70d4-124fe81585b8",
    "_uuid": "9a599c4898aecc65551e79d219410e48ffbe5fc8"
   },
   "outputs": [],
   "source": [
    "accuracy =tf.reduce_mean(tf.cast(tf.equal(tf.squeeze(prediction),tf.squeeze(y_target)), tf.float32))"
   ]
  },
  {
   "cell_type": "code",
   "execution_count": 14,
   "metadata": {
    "_cell_guid": "9d280155-e640-df4f-4ab2-d8815cd54a97",
    "_uuid": "e6c70ba6f29ff74a0f8b1845cf2a823450ec23d3"
   },
   "outputs": [],
   "source": [
    "my_opt = tf.train.GradientDescentOptimizer(0.01)\n",
    "train_step = my_opt.minimize(loss)\n",
    "init = tf.global_variables_initializer() # this line is different depending on your version of tf\n",
    "sess.run(init)"
   ]
  },
  {
   "cell_type": "code",
   "execution_count": 15,
   "metadata": {
    "_cell_guid": "d902b6b1-a533-8188-3550-04237f32e12c",
    "_uuid": "b7323f15d523c0aec1a12f018f5352de5ee19da0"
   },
   "outputs": [],
   "source": [
    "loss_vec = []\n",
    "batch_accuracy = []\n",
    "for i in range(300):\n",
    "    rand_index = np.random.choice(len(x_vals),size=batch_size)\n",
    "    rand_x = x_vals[rand_index]\n",
    "    rand_y = np.transpose([y_vals[rand_index]])\n",
    "    sess.run(train_step, feed_dict={x_data: rand_x, y_target:rand_y})\n",
    "    temp_loss = sess.run(loss, feed_dict={x_data: rand_x,y_target: rand_y})\n",
    "    loss_vec.append(temp_loss)\n",
    "    acc_temp = sess.run(accuracy, feed_dict={x_data: rand_x,y_target:rand_y,prediction_grid:rand_x})\n",
    "    batch_accuracy.append(acc_temp)"
   ]
  },
  {
   "cell_type": "code",
   "execution_count": 16,
   "metadata": {
    "_cell_guid": "3dd061da-9233-a59e-bee8-41e0333d02ec",
    "_uuid": "43bf6c7d60c77e424a37293cc0f3a79ea3c9d2d4"
   },
   "outputs": [],
   "source": [
    "x_min, x_max = x_vals[:, 0].min() - 1, x_vals[:, 0].max() + 1\n",
    "y_min, y_max = x_vals[:, 1].min() - 1, x_vals[:, 1].max() + 1\n",
    "xx, yy = np.meshgrid(np.arange(x_min, x_max, 0.02),np.arange(y_min, y_max, 0.02))\n",
    "grid_points = np.c_[xx.ravel(), yy.ravel()]\n",
    "[grid_predictions] = sess.run(prediction, feed_dict={x_data:rand_x,y_target:rand_y,prediction_grid: grid_points})\n",
    "grid_predictions = grid_predictions.reshape(xx.shape)"
   ]
  },
  {
   "cell_type": "code",
   "execution_count": 17,
   "metadata": {
    "_cell_guid": "149f6eef-bed6-20e5-cf1c-c9de21f3c048",
    "_uuid": "47330a6cd649180c1436febd4cf2cdbaca505e4d"
   },
   "outputs": [
    {
     "data": {
      "image/png": "[encoded data removed]",
      "text/plain": [
       "<matplotlib.figure.Figure at 0x1c3dea477f0>"
      ]
     },
     "metadata": {},
     "output_type": "display_data"
    }
   ],
   "source": [
    "plt.contourf(xx, yy, grid_predictions, cmap=plt.cm.Paired,\n",
    "alpha=0.8)\n",
    "plt.plot(class1_x, class1_y, 'ro', label='I. setosa')\n",
    "plt.plot(class2_x, class2_y, 'kx', label='Non setosa')\n",
    "plt.title('Non Linear (Gaussian) Kernel SVM Results: Iris Data')\n",
    "plt.xlabel('Pedal Length')\n",
    "plt.ylabel('Sepal Width')\n",
    "plt.legend(loc='lower right')\n",
    "plt.ylim([-0.5, 3.0])\n",
    "plt.xlim([3.5, 8.5])\n",
    "plt.show()"
   ]
  },
  {
   "cell_type": "markdown",
   "metadata": {
    "_cell_guid": "3b5d0c0f-453d-3d91-53e4-73177379cf31",
    "_uuid": "6ca05886bfe41c668ad0398a0be7c5369e469546"
   },
   "source": [
    "As you change the values of gamma, the plots will change reflecting the change of gamma"
   ]
  },
  {
   "cell_type": "markdown",
   "metadata": {
    "_cell_guid": "9db71e96-f20b-a861-bb34-e88a5b029616",
    "_uuid": "1b4dd7315c66b7f7a0a96fd607ad93b0d704147d"
   },
   "source": [
    "Multi-class svm :"
   ]
  },
  {
   "cell_type": "code",
   "execution_count": 18,
   "metadata": {
    "_cell_guid": "8f490b9b-e220-a699-2dcb-43457df86a62",
    "_uuid": "8c68838966297c37a9b5ca0706db4294e6d03099"
   },
   "outputs": [],
   "source": [
    "iris = datasets.load_iris()\n",
    "x_vals = np.array([[x[0], x[3]] for x in iris.data])\n",
    "y_vals1 = np.array([1 if y==0 else -1 for y in iris.target])\n",
    "y_vals2 = np.array([1 if y==1 else -1 for y in iris.target])\n",
    "y_vals3 = np.array([1 if y==2 else -1 for y in iris.target])\n",
    "y_vals = np.array([y_vals1, y_vals2, y_vals3])\n",
    "class1_x = [x[0] for i,x in enumerate(x_vals) if\n",
    "iris.target[i]==0]\n",
    "class1_y = [x[1] for i,x in enumerate(x_vals) if\n",
    "iris.target[i]==0]\n",
    "class2_x = [x[0] for i,x in enumerate(x_vals) if\n",
    "iris.target[i]==1]\n",
    "class2_y = [x[1] for i,x in enumerate(x_vals) if\n",
    "iris.target[i]==1]\n",
    "class3_x = [x[0] for i,x in enumerate(x_vals) if\n",
    "iris.target[i]==2]\n",
    "class3_y = [x[1] for i,x in enumerate(x_vals) if\n",
    "iris.target[i]==2]"
   ]
  },
  {
   "cell_type": "code",
   "execution_count": 19,
   "metadata": {
    "_cell_guid": "18751b51-b58f-e11e-a322-d241dac794d7",
    "_uuid": "b1200a0d389ec801f72344bcfd07ae616971c923"
   },
   "outputs": [],
   "source": [
    "batch_size = 50\n",
    "x_data = tf.placeholder(shape=[None, 2], dtype=tf.float32)\n",
    "y_target = tf.placeholder(shape=[3, None], dtype=tf.float32)\n",
    "prediction_grid = tf.placeholder(shape=[None, 2],dtype=tf.float32)\n",
    "b = tf.Variable(tf.random_normal(shape=[3,batch_size]))"
   ]
  },
  {
   "cell_type": "code",
   "execution_count": 20,
   "metadata": {
    "_cell_guid": "1931e8b6-e80d-7fc2-00dc-074c809488ba",
    "_uuid": "585d9b3b09d0b5917a6667ed4deb635d64261c0a"
   },
   "outputs": [],
   "source": [
    "gamma = tf.constant(-1.0) \n",
    "dist = tf.reduce_sum(tf.square(x_data), 1)\n",
    "dist = tf.reshape(dist, [-1,1])\n",
    "sq_dists = tf.add(tf.subtract(dist, tf.multiply(2., tf.matmul(x_data,tf.transpose(x_data)))), tf.transpose(dist))\n",
    "my_kernel = tf.exp(tf.multiply(gamma, tf.abs(sq_dists)))"
   ]
  },
  {
   "cell_type": "code",
   "execution_count": 21,
   "metadata": {
    "_cell_guid": "ae5f4972-67a1-a5af-2f38-c59aeb2a4559",
    "_uuid": "537e11708062a7eff6117b86fa11b0e8522f0792"
   },
   "outputs": [],
   "source": [
    "#batch multiplication\n",
    "def reshape_matmul(mat):\n",
    "    v1 = tf.expand_dims(mat, 1)\n",
    "    v2 = tf.reshape(v1, [3, batch_size, 1])\n",
    "    return(tf.matmul(v2, v1))"
   ]
  },
  {
   "cell_type": "code",
   "execution_count": 22,
   "metadata": {
    "_cell_guid": "c5e52e82-dd15-ec67-2009-130dbb51ed45",
    "_uuid": "99f33c0ad18d6ac629ad5a12a57a26fc3ef08955"
   },
   "outputs": [],
   "source": [
    "#loss\n",
    "model_output = tf.matmul(b, my_kernel)\n",
    "first_term = tf.reduce_sum(b)\n",
    "b_vec_cross = tf.matmul(tf.transpose(b), b)\n",
    "y_target_cross = reshape_matmul(y_target)\n",
    "second_term = tf.reduce_sum(tf.multiply(my_kernel,tf.multiply(b_vec_cross, y_target_cross)),[1,2])\n",
    "loss = tf.reduce_sum(tf.negative(tf.subtract(first_term, second_term)))"
   ]
  },
  {
   "cell_type": "code",
   "execution_count": 23,
   "metadata": {
    "_cell_guid": "7de1748b-24f2-42cb-a3d6-1ec4a2d8d166",
    "_uuid": "f8d83570179a0cf97c456853a3d9e8100beaf13a"
   },
   "outputs": [],
   "source": [
    "rA = tf.reshape(tf.reduce_sum(tf.square(x_data), 1),[-1,1])\n",
    "rB = tf.reshape(tf.reduce_sum(tf.square(prediction_grid), 1),[-1,1])\n",
    "\n",
    "pred_sq_dist = tf.add(tf.subtract(rA, tf.multiply(2., tf.matmul(x_data,tf.transpose(prediction_grid)))), tf.transpose(rB))\n",
    "pred_kernel = tf.exp(tf.multiply(gamma, tf.abs(pred_sq_dist)))"
   ]
  },
  {
   "cell_type": "code",
   "execution_count": 25,
   "metadata": {
    "_cell_guid": "4fdabab7-363e-eb4d-19df-0fd433a19979",
    "_uuid": "971fda7f970745489cdca3cc003b9dbd615ebf08"
   },
   "outputs": [],
   "source": [
    "prediction_output = tf.matmul(tf.multiply(y_target,b),pred_kernel)\n",
    "prediction = tf.arg_max(prediction_output-tf.expand_dims(tf.reduce_mean(prediction_output,1), 1), 0)\n",
    "accuracy = tf.reduce_mean(tf.cast(tf.equal(prediction,tf.argmax(y_target,0)), tf.float32))"
   ]
  },
  {
   "cell_type": "code",
   "execution_count": 26,
   "metadata": {
    "_cell_guid": "23316721-8e2f-5660-f127-3bc924fe4d46",
    "_uuid": "46a77463771a8e8efd15fee9503e56ba75663358"
   },
   "outputs": [],
   "source": [
    "my_opt = tf.train.GradientDescentOptimizer(0.01)\n",
    "train_step = my_opt.minimize(loss)\n",
    "init = tf.global_variables_initializer()\n",
    "sess.run(init)"
   ]
  },
  {
   "cell_type": "code",
   "execution_count": 27,
   "metadata": {
    "_cell_guid": "929c6572-4e11-dada-633c-7fa0a98d7ab2",
    "_uuid": "65f1816aed5c69cb350383c9d03a0b9cfeafebbc"
   },
   "outputs": [],
   "source": [
    "loss_vec = []\n",
    "batch_accuracy = []"
   ]
  },
  {
   "cell_type": "code",
   "execution_count": 28,
   "metadata": {
    "_cell_guid": "750e7c7c-e257-1b45-bbbd-f3ad5de26f25",
    "_uuid": "000d3a02584d73f17461903e16e69ba6881b77da"
   },
   "outputs": [
    {
     "name": "stdout",
     "output_type": "stream",
     "text": [
      "Step #5\n",
      "Loss = 50.027233\n",
      "Step #10\n",
      "Loss = 29.260197\n",
      "Step #15\n",
      "Loss = 56.608997\n",
      "Step #20\n",
      "Loss = 23.974226\n",
      "Step #25\n",
      "Loss = 5.7313986\n",
      "Step #30\n",
      "Loss = 0.45997763\n",
      "Step #35\n",
      "Loss = -3.4175186\n",
      "Step #40\n",
      "Loss = -5.1181464\n",
      "Step #45\n",
      "Loss = -7.4483333\n",
      "Step #50\n",
      "Loss = -6.3106866\n",
      "Step #55\n",
      "Loss = -9.989964\n",
      "Step #60\n",
      "Loss = -10.166449\n",
      "Step #65\n",
      "Loss = -11.713074\n",
      "Step #70\n",
      "Loss = -9.684897\n",
      "Step #75\n",
      "Loss = -10.063756\n",
      "Step #80\n",
      "Loss = -13.344901\n",
      "Step #85\n",
      "Loss = -12.112991\n",
      "Step #90\n",
      "Loss = -13.037795\n",
      "Step #95\n",
      "Loss = -13.225888\n",
      "Step #100\n",
      "Loss = -11.968012\n",
      "Step #105\n",
      "Loss = -12.726457\n",
      "Step #110\n",
      "Loss = -11.422977\n",
      "Step #115\n",
      "Loss = -11.816796\n",
      "Step #120\n",
      "Loss = -13.135318\n",
      "Step #125\n",
      "Loss = -12.075512\n",
      "Step #130\n",
      "Loss = -13.564445\n",
      "Step #135\n",
      "Loss = -12.074724\n",
      "Step #140\n",
      "Loss = -11.99192\n",
      "Step #145\n",
      "Loss = -11.589236\n",
      "Step #150\n",
      "Loss = -13.062673\n",
      "Step #155\n",
      "Loss = -12.737003\n",
      "Step #160\n",
      "Loss = -11.493714\n",
      "Step #165\n",
      "Loss = -11.524833\n",
      "Step #170\n",
      "Loss = -13.148329\n",
      "Step #175\n",
      "Loss = -14.802509\n",
      "Step #180\n",
      "Loss = -12.364866\n",
      "Step #185\n",
      "Loss = -13.616646\n",
      "Step #190\n",
      "Loss = -11.394106\n",
      "Step #195\n",
      "Loss = -12.730124\n",
      "Step #200\n",
      "Loss = -12.685854\n",
      "Step #205\n",
      "Loss = -11.926304\n",
      "Step #210\n",
      "Loss = -11.846567\n",
      "Step #215\n",
      "Loss = -11.152732\n",
      "Step #220\n",
      "Loss = -16.186192\n",
      "Step #225\n",
      "Loss = -12.58614\n",
      "Step #230\n",
      "Loss = -12.399818\n",
      "Step #235\n",
      "Loss = -11.152795\n",
      "Step #240\n",
      "Loss = -13.086595\n",
      "Step #245\n",
      "Loss = -11.68395\n",
      "Step #250\n",
      "Loss = -14.206797\n",
      "Step #255\n",
      "Loss = -13.1980915\n",
      "Step #260\n",
      "Loss = -12.045221\n",
      "Step #265\n",
      "Loss = -13.03036\n",
      "Step #270\n",
      "Loss = -11.537772\n",
      "Step #275\n",
      "Loss = -12.200136\n",
      "Step #280\n",
      "Loss = -11.160012\n",
      "Step #285\n",
      "Loss = -11.4943905\n",
      "Step #290\n",
      "Loss = -12.32457\n",
      "Step #295\n",
      "Loss = -13.361861\n",
      "Step #300\n",
      "Loss = -13.01333\n",
      "Step #305\n",
      "Loss = -12.629288\n",
      "Step #310\n",
      "Loss = -12.786001\n",
      "Step #315\n",
      "Loss = -11.929179\n",
      "Step #320\n",
      "Loss = -11.793289\n",
      "Step #325\n",
      "Loss = -12.557818\n",
      "Step #330\n",
      "Loss = -13.9209385\n",
      "Step #335\n",
      "Loss = -13.270979\n",
      "Step #340\n",
      "Loss = -12.638709\n",
      "Step #345\n",
      "Loss = -11.128782\n",
      "Step #350\n",
      "Loss = -12.848898\n",
      "Step #355\n",
      "Loss = -11.983017\n",
      "Step #360\n",
      "Loss = -13.639227\n",
      "Step #365\n",
      "Loss = -11.56406\n",
      "Step #370\n",
      "Loss = -12.051497\n",
      "Step #375\n",
      "Loss = -12.670828\n",
      "Step #380\n",
      "Loss = -13.086689\n",
      "Step #385\n",
      "Loss = -12.002728\n",
      "Step #390\n",
      "Loss = -12.956646\n",
      "Step #395\n",
      "Loss = -12.548464\n",
      "Step #400\n",
      "Loss = -12.00869\n",
      "Step #405\n",
      "Loss = -12.382301\n",
      "Step #410\n",
      "Loss = -11.410271\n",
      "Step #415\n",
      "Loss = -10.377783\n",
      "Step #420\n",
      "Loss = -13.351751\n",
      "Step #425\n",
      "Loss = -12.160878\n",
      "Step #430\n",
      "Loss = -11.679199\n",
      "Step #435\n",
      "Loss = -13.342512\n",
      "Step #440\n",
      "Loss = -12.987702\n",
      "Step #445\n",
      "Loss = -13.570422\n",
      "Step #450\n",
      "Loss = -13.10085\n",
      "Step #455\n",
      "Loss = -13.277496\n",
      "Step #460\n",
      "Loss = -13.230507\n",
      "Step #465\n",
      "Loss = -13.649108\n",
      "Step #470\n",
      "Loss = -11.967983\n",
      "Step #475\n",
      "Loss = -13.489576\n",
      "Step #480\n",
      "Loss = -12.922435\n",
      "Step #485\n",
      "Loss = -11.078921\n",
      "Step #490\n",
      "Loss = -12.5843525\n",
      "Step #495\n",
      "Loss = -12.631586\n",
      "Step #500\n",
      "Loss = -11.313215\n",
      "Step #505\n",
      "Loss = -11.637762\n",
      "Step #510\n",
      "Loss = -11.999784\n",
      "Step #515\n",
      "Loss = -11.505235\n",
      "Step #520\n",
      "Loss = -12.205374\n",
      "Step #525\n",
      "Loss = -14.21439\n",
      "Step #530\n",
      "Loss = -14.687893\n",
      "Step #535\n",
      "Loss = -12.876495\n",
      "Step #540\n",
      "Loss = -12.32015\n",
      "Step #545\n",
      "Loss = -12.977231\n",
      "Step #550\n",
      "Loss = -14.079823\n",
      "Step #555\n",
      "Loss = -10.793293\n",
      "Step #560\n",
      "Loss = -12.089613\n",
      "Step #565\n",
      "Loss = -11.882965\n",
      "Step #570\n",
      "Loss = -13.921392\n",
      "Step #575\n",
      "Loss = -14.071569\n",
      "Step #580\n",
      "Loss = -12.569669\n",
      "Step #585\n",
      "Loss = -13.137484\n",
      "Step #590\n",
      "Loss = -12.314972\n",
      "Step #595\n",
      "Loss = -12.843538\n",
      "Step #600\n",
      "Loss = -12.024236\n",
      "Step #605\n",
      "Loss = -11.928015\n",
      "Step #610\n",
      "Loss = -12.233285\n",
      "Step #615\n",
      "Loss = -11.4463005\n",
      "Step #620\n",
      "Loss = -11.206304\n",
      "Step #625\n",
      "Loss = -13.438473\n",
      "Step #630\n",
      "Loss = -12.838421\n",
      "Step #635\n",
      "Loss = -13.495554\n",
      "Step #640\n",
      "Loss = -12.955952\n",
      "Step #645\n",
      "Loss = -11.903236\n",
      "Step #650\n",
      "Loss = -12.310919\n",
      "Step #655\n",
      "Loss = -12.74294\n",
      "Step #660\n",
      "Loss = -11.643303\n",
      "Step #665\n",
      "Loss = -12.741507\n",
      "Step #670\n",
      "Loss = -12.181938\n",
      "Step #675\n",
      "Loss = -10.867445\n",
      "Step #680\n",
      "Loss = -13.897595\n",
      "Step #685\n",
      "Loss = -12.162903\n",
      "Step #690\n",
      "Loss = -12.608613\n",
      "Step #695\n",
      "Loss = -12.363743\n",
      "Step #700\n",
      "Loss = -9.288498\n",
      "Step #705\n",
      "Loss = -12.14557\n",
      "Step #710\n",
      "Loss = -12.365637\n",
      "Step #715\n",
      "Loss = -13.564752\n",
      "Step #720\n",
      "Loss = -11.45831\n",
      "Step #725\n",
      "Loss = -11.824158\n",
      "Step #730\n",
      "Loss = -12.863882\n",
      "Step #735\n",
      "Loss = -11.582612\n",
      "Step #740\n",
      "Loss = -13.943213\n",
      "Step #745\n",
      "Loss = -12.792492\n",
      "Step #750\n",
      "Loss = -14.02306\n",
      "Step #755\n",
      "Loss = -12.237644\n",
      "Step #760\n",
      "Loss = -12.216305\n",
      "Step #765\n",
      "Loss = -10.977173\n",
      "Step #770\n",
      "Loss = -13.0983715\n",
      "Step #775\n",
      "Loss = -11.968353\n",
      "Step #780\n",
      "Loss = -12.36732\n",
      "Step #785\n",
      "Loss = -12.999727\n",
      "Step #790\n",
      "Loss = -12.470295\n",
      "Step #795\n",
      "Loss = -12.115551\n",
      "Step #800\n",
      "Loss = -12.240425\n",
      "Step #805\n",
      "Loss = -12.345354\n",
      "Step #810\n",
      "Loss = -12.803694\n",
      "Step #815\n",
      "Loss = -12.947149\n",
      "Step #820\n",
      "Loss = -12.332957\n",
      "Step #825\n",
      "Loss = -12.251404\n",
      "Step #830\n",
      "Loss = -12.553052\n",
      "Step #835\n",
      "Loss = -13.154919\n",
      "Step #840\n",
      "Loss = -13.400843\n",
      "Step #845\n",
      "Loss = -11.916524\n",
      "Step #850\n",
      "Loss = -11.333832\n",
      "Step #855\n",
      "Loss = -13.173121\n",
      "Step #860\n",
      "Loss = -11.482314\n",
      "Step #865\n",
      "Loss = -13.495751\n",
      "Step #870\n",
      "Loss = -13.420393\n",
      "Step #875\n",
      "Loss = -11.202036\n",
      "Step #880\n",
      "Loss = -11.562641\n",
      "Step #885\n",
      "Loss = -13.341037\n",
      "Step #890\n",
      "Loss = -12.140472\n",
      "Step #895\n",
      "Loss = -12.071207\n",
      "Step #900\n",
      "Loss = -13.093313\n",
      "Step #905\n",
      "Loss = -13.721181\n",
      "Step #910\n",
      "Loss = -12.133394\n",
      "Step #915\n",
      "Loss = -13.132795\n",
      "Step #920\n",
      "Loss = -12.337496\n",
      "Step #925\n",
      "Loss = -13.503113\n",
      "Step #930\n",
      "Loss = -15.860767\n",
      "Step #935\n",
      "Loss = -12.552802\n",
      "Step #940\n",
      "Loss = -11.407444\n",
      "Step #945\n",
      "Loss = -14.299004\n",
      "Step #950\n",
      "Loss = -13.114179\n",
      "Step #955\n",
      "Loss = -12.515567\n",
      "Step #960\n",
      "Loss = -12.059624\n",
      "Step #965\n",
      "Loss = -13.445396\n",
      "Step #970\n",
      "Loss = -11.597834\n",
      "Step #975\n",
      "Loss = -11.324374\n",
      "Step #980\n",
      "Loss = -13.986382\n",
      "Step #985\n",
      "Loss = -14.220335\n",
      "Step #990\n",
      "Loss = -11.739452\n",
      "Step #995\n",
      "Loss = -11.936187\n",
      "Step #1000\n",
      "Loss = -13.875106\n"
     ]
    }
   ],
   "source": [
    "for i in range(1000):\n",
    "    rand_index = np.random.choice(len(x_vals),\n",
    "    size=batch_size)\n",
    "    rand_x = x_vals[rand_index]\n",
    "    rand_y = y_vals[:,rand_index]\n",
    "    sess.run(train_step, feed_dict={x_data: rand_x, y_target:rand_y})\n",
    "    temp_loss = sess.run(loss, feed_dict={x_data: rand_x,y_target: rand_y})\n",
    "    loss_vec.append(temp_loss)\n",
    "    acc_temp = sess.run(accuracy, feed_dict={x_data: rand_x,y_target: rand_y, prediction_grid:rand_x})\n",
    "    batch_accuracy.append(acc_temp)\n",
    "    if (i+1)%5==0:\n",
    "        print('Step #' + str(i+1))\n",
    "        print('Loss = ' + str(temp_loss))"
   ]
  },
  {
   "cell_type": "code",
   "execution_count": 29,
   "metadata": {
    "_cell_guid": "4ed6433b-9cf9-a33a-04c5-aa70f3e4131b",
    "_uuid": "4fbb5fc4ac014c442f9c8f80f3674235728df7c1"
   },
   "outputs": [],
   "source": [
    "x_min, x_max = x_vals[:, 0].min() - 1, x_vals[:, 0].max() + 1\n",
    "y_min, y_max = x_vals[:, 1].min() - 1, x_vals[:, 1].max() + 1\n",
    "\n",
    "xx, yy = np.meshgrid(np.arange(x_min, x_max, 0.02),\n",
    "np.arange(y_min, y_max, 0.02))\n",
    "\n",
    "grid_points = np.c_[xx.ravel(), yy.ravel()]\n",
    "grid_predictions = sess.run(prediction, feed_dict={x_data:rand_x,y_target:rand_y,prediction_grid: grid_points})\n",
    "grid_predictions = grid_predictions.reshape(xx.shape)"
   ]
  },
  {
   "cell_type": "code",
   "execution_count": 30,
   "metadata": {
    "_cell_guid": "1a17ecd3-dbae-e9db-cdaa-c500cfb0accd",
    "_uuid": "6b56b840f045953e282e3b53a66e8fe6681ce377"
   },
   "outputs": [
    {
     "data": {
      "image/png": "[encoded data removed]",
      "text/plain": [
       "<matplotlib.figure.Figure at 0x1c3def527b8>"
      ]
     },
     "metadata": {},
     "output_type": "display_data"
    },
    {
     "data": {
      "image/png": "[encoded data removed]",
      "text/plain": [
       "<matplotlib.figure.Figure at 0x1c3deb9fa58>"
      ]
     },
     "metadata": {},
     "output_type": "display_data"
    },
    {
     "data": {
      "image/png": "[encoded data removed]",
      "text/plain": [
       "<matplotlib.figure.Figure at 0x1c3def527f0>"
      ]
     },
     "metadata": {},
     "output_type": "display_data"
    }
   ],
   "source": [
    "plt.contourf(xx, yy, grid_predictions, cmap=plt.cm.Paired,\n",
    "alpha=0.8)\n",
    "plt.plot(class1_x, class1_y, 'kx', label='Setosa')\n",
    "plt.plot(class2_x, class2_y, 'gv', label='Versicolor')\n",
    "plt.plot(class3_x, class3_y, 'ro', label='Virginica')\n",
    "plt.title('Gaussian SVM Results: Iris Data')\n",
    "plt.xlabel('Pedal Length')\n",
    "plt.ylabel('Sepal Width')\n",
    "plt.legend(loc='lower right')\n",
    "plt.ylim([-0.5, 3.0])\n",
    "plt.xlim([3.5, 8.5])\n",
    "plt.show()\n",
    "\n",
    "plt.plot(batch_accuracy, 'k-', label='Accuracy')\n",
    "plt.title('Batch Accuracy')\n",
    "plt.xlabel('Generation')\n",
    "plt.ylabel('Accuracy')\n",
    "plt.legend(loc='lower right')\n",
    "plt.show()\n",
    "\n",
    "plt.plot(loss_vec, 'k-')\n",
    "plt.title('Loss per Generation')\n",
    "plt.xlabel('Generation')\n",
    "plt.ylabel('Loss')\n",
    "plt.show()"
   ]
  },
  {
   "cell_type": "code",
   "execution_count": null,
   "metadata": {
    "_cell_guid": "e9cf667d-9c2c-3fc5-9161-1c256919c8e5",
    "_uuid": "c809847e511eedd1fa5776b0ef134a54762f7cef"
   },
   "outputs": [],
   "source": []
  }
 ],
 "metadata": {
  "_change_revision": 0,
  "_is_fork": false,
  "kernelspec": {
   "display_name": "Python 3",
   "language": "python",
   "name": "python3"
  },
  "language_info": {
   "codemirror_mode": {
    "name": "ipython",
    "version": 3
   },
   "file_extension": ".py",
   "mimetype": "text/x-python",
   "name": "python",
   "nbconvert_exporter": "python",
   "pygments_lexer": "ipython3",
   "version": "3.6.4"
  }
 },
 "nbformat": 4,
 "nbformat_minor": 1
}
